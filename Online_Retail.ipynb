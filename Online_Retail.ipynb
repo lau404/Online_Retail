{
 "cells": [
  {
   "cell_type": "markdown",
   "metadata": {},
   "source": [
    "# 在线零售数据\n",
    "\n",
    "## 简介\n",
    "\n",
    "> 此数据集包含英国某在线零售商2009年12月到2011年12月的销售数据，该公司主要销售适用于各场合的礼物用品。数据集包括6位数字发票号码（以“C开头的表明此订单取消”）、产品代码、产品描述、发票日期、产品单价、购买数量、客户ID和国家/地区等信息。通过此数据集，我们将探究一些基本问题，如哪些产品的订单取消的比例高？哪些产品比较畅销？销售额与月份是否存在关系？每天中的交易量如何变化？"
   ]
  },
  {
   "cell_type": "markdown",
   "metadata": {},
   "source": [
    "**1. 数据清洗**"
   ]
  },
  {
   "cell_type": "code",
   "execution_count": 6,
   "metadata": {
    "collapsed": true
   },
   "outputs": [],
   "source": [
    "import time\n",
    "import pandas as pd\n",
    "import numpy as np\n",
    "import matplotlib.pyplot as plt\n",
    "import statsmodels.api as sm\n",
    "%matplotlib inline"
   ]
  },
  {
   "cell_type": "code",
   "execution_count": 7,
   "metadata": {},
   "outputs": [
    {
     "name": "stdout",
     "output_type": "stream",
     "text": [
      "<class 'pandas.core.frame.DataFrame'>\n",
      "RangeIndex: 1067371 entries, 0 to 1067370\n",
      "Data columns (total 8 columns):\n",
      "Invoice        1067371 non-null object\n",
      "StockCode      1067371 non-null object\n",
      "Description    1062989 non-null object\n",
      "Quantity       1067371 non-null int64\n",
      "InvoiceDate    1067371 non-null datetime64[ns]\n",
      "Price          1067371 non-null float64\n",
      "Customer ID    824364 non-null float64\n",
      "Country        1067371 non-null object\n",
      "dtypes: datetime64[ns](1), float64(2), int64(1), object(4)\n",
      "memory usage: 65.1+ MB\n"
     ]
    }
   ],
   "source": [
    "df1=pd.read_excel('online_retail.xlsx',sheename='Year 2009-2010')\n",
    "df2=pd.read_excel('online_retail.xlsx',sheetname='Year 2010-2011')\n",
    "df=pd.concat([df1,df2],ignore_index=True)\n",
    "df.info()"
   ]
  },
  {
   "cell_type": "code",
   "execution_count": 8,
   "metadata": {
    "scrolled": true
   },
   "outputs": [
    {
     "data": {
      "text/html": [
       "<div>\n",
       "<style>\n",
       "    .dataframe thead tr:only-child th {\n",
       "        text-align: right;\n",
       "    }\n",
       "\n",
       "    .dataframe thead th {\n",
       "        text-align: left;\n",
       "    }\n",
       "\n",
       "    .dataframe tbody tr th {\n",
       "        vertical-align: top;\n",
       "    }\n",
       "</style>\n",
       "<table border=\"1\" class=\"dataframe\">\n",
       "  <thead>\n",
       "    <tr style=\"text-align: right;\">\n",
       "      <th></th>\n",
       "      <th>Invoice</th>\n",
       "      <th>StockCode</th>\n",
       "      <th>Description</th>\n",
       "      <th>Quantity</th>\n",
       "      <th>InvoiceDate</th>\n",
       "      <th>Price</th>\n",
       "      <th>Customer ID</th>\n",
       "      <th>Country</th>\n",
       "      <th>year</th>\n",
       "      <th>month</th>\n",
       "      <th>weekday</th>\n",
       "      <th>hour</th>\n",
       "      <th>total</th>\n",
       "    </tr>\n",
       "  </thead>\n",
       "  <tbody>\n",
       "    <tr>\n",
       "      <th>0</th>\n",
       "      <td>489434</td>\n",
       "      <td>85048</td>\n",
       "      <td>15CM CHRISTMAS GLASS BALL 20 LIGHTS</td>\n",
       "      <td>12</td>\n",
       "      <td>2009-12-01 07:45:00</td>\n",
       "      <td>6.95</td>\n",
       "      <td>13085.0</td>\n",
       "      <td>United Kingdom</td>\n",
       "      <td>2009</td>\n",
       "      <td>12</td>\n",
       "      <td>1</td>\n",
       "      <td>7</td>\n",
       "      <td>83.4</td>\n",
       "    </tr>\n",
       "    <tr>\n",
       "      <th>1</th>\n",
       "      <td>489434</td>\n",
       "      <td>79323P</td>\n",
       "      <td>PINK CHERRY LIGHTS</td>\n",
       "      <td>12</td>\n",
       "      <td>2009-12-01 07:45:00</td>\n",
       "      <td>6.75</td>\n",
       "      <td>13085.0</td>\n",
       "      <td>United Kingdom</td>\n",
       "      <td>2009</td>\n",
       "      <td>12</td>\n",
       "      <td>1</td>\n",
       "      <td>7</td>\n",
       "      <td>81.0</td>\n",
       "    </tr>\n",
       "    <tr>\n",
       "      <th>2</th>\n",
       "      <td>489434</td>\n",
       "      <td>79323W</td>\n",
       "      <td>WHITE CHERRY LIGHTS</td>\n",
       "      <td>12</td>\n",
       "      <td>2009-12-01 07:45:00</td>\n",
       "      <td>6.75</td>\n",
       "      <td>13085.0</td>\n",
       "      <td>United Kingdom</td>\n",
       "      <td>2009</td>\n",
       "      <td>12</td>\n",
       "      <td>1</td>\n",
       "      <td>7</td>\n",
       "      <td>81.0</td>\n",
       "    </tr>\n",
       "    <tr>\n",
       "      <th>3</th>\n",
       "      <td>489434</td>\n",
       "      <td>22041</td>\n",
       "      <td>RECORD FRAME 7\" SINGLE SIZE</td>\n",
       "      <td>48</td>\n",
       "      <td>2009-12-01 07:45:00</td>\n",
       "      <td>2.10</td>\n",
       "      <td>13085.0</td>\n",
       "      <td>United Kingdom</td>\n",
       "      <td>2009</td>\n",
       "      <td>12</td>\n",
       "      <td>1</td>\n",
       "      <td>7</td>\n",
       "      <td>100.8</td>\n",
       "    </tr>\n",
       "    <tr>\n",
       "      <th>4</th>\n",
       "      <td>489434</td>\n",
       "      <td>21232</td>\n",
       "      <td>STRAWBERRY CERAMIC TRINKET BOX</td>\n",
       "      <td>24</td>\n",
       "      <td>2009-12-01 07:45:00</td>\n",
       "      <td>1.25</td>\n",
       "      <td>13085.0</td>\n",
       "      <td>United Kingdom</td>\n",
       "      <td>2009</td>\n",
       "      <td>12</td>\n",
       "      <td>1</td>\n",
       "      <td>7</td>\n",
       "      <td>30.0</td>\n",
       "    </tr>\n",
       "  </tbody>\n",
       "</table>\n",
       "</div>"
      ],
      "text/plain": [
       "  Invoice StockCode                          Description  Quantity  \\\n",
       "0  489434     85048  15CM CHRISTMAS GLASS BALL 20 LIGHTS        12   \n",
       "1  489434    79323P                   PINK CHERRY LIGHTS        12   \n",
       "2  489434    79323W                  WHITE CHERRY LIGHTS        12   \n",
       "3  489434     22041         RECORD FRAME 7\" SINGLE SIZE         48   \n",
       "4  489434     21232       STRAWBERRY CERAMIC TRINKET BOX        24   \n",
       "\n",
       "          InvoiceDate  Price  Customer ID         Country  year  month  \\\n",
       "0 2009-12-01 07:45:00   6.95      13085.0  United Kingdom  2009     12   \n",
       "1 2009-12-01 07:45:00   6.75      13085.0  United Kingdom  2009     12   \n",
       "2 2009-12-01 07:45:00   6.75      13085.0  United Kingdom  2009     12   \n",
       "3 2009-12-01 07:45:00   2.10      13085.0  United Kingdom  2009     12   \n",
       "4 2009-12-01 07:45:00   1.25      13085.0  United Kingdom  2009     12   \n",
       "\n",
       "   weekday  hour  total  \n",
       "0        1     7   83.4  \n",
       "1        1     7   81.0  \n",
       "2        1     7   81.0  \n",
       "3        1     7  100.8  \n",
       "4        1     7   30.0  "
      ]
     },
     "execution_count": 8,
     "metadata": {},
     "output_type": "execute_result"
    }
   ],
   "source": [
    "df.drop_duplicates(inplace=True)\n",
    "\n",
    "#提取年、月、日、小时等信息\n",
    "df['year']=df['InvoiceDate'].dt.year\n",
    "df['month']=df['InvoiceDate'].dt.month\n",
    "df['weekday']=df['InvoiceDate'].dt.weekday\n",
    "df['hour']=df['InvoiceDate'].dt.hour\n",
    "df['total']=df['Quantity']*df['Price']\n",
    "df.head()"
   ]
  },
  {
   "cell_type": "markdown",
   "metadata": {},
   "source": [
    "**2. 订单取消**"
   ]
  },
  {
   "cell_type": "code",
   "execution_count": 9,
   "metadata": {},
   "outputs": [
    {
     "name": "stderr",
     "output_type": "stream",
     "text": [
      "C:\\Users\\Liu\\Anaconda3\\lib\\site-packages\\ipykernel_launcher.py:2: FutureWarning: currently extract(expand=None) means expand=False (return Index/Series/DataFrame) but in a future version of pandas this will be changed to expand=True (return DataFrame)\n",
      "  \n"
     ]
    }
   ],
   "source": [
    "#新增取消订单列\n",
    "df['cancellation']=df['Invoice'].str.extract('(C)\\d+')"
   ]
  },
  {
   "cell_type": "markdown",
   "metadata": {},
   "source": [
    "**2.1 取消订单的比例**"
   ]
  },
  {
   "cell_type": "code",
   "execution_count": 10,
   "metadata": {},
   "outputs": [
    {
     "data": {
      "text/plain": [
       "0.01849306316527207"
      ]
     },
     "execution_count": 10,
     "metadata": {},
     "output_type": "execute_result"
    }
   ],
   "source": [
    "df_c=df.query('cancellation==\"C\"')\n",
    "df_c.shape[0]/df.shape[0]"
   ]
  },
  {
   "cell_type": "markdown",
   "metadata": {},
   "source": [
    "**2.2 哪些产品取消的比例高**"
   ]
  },
  {
   "cell_type": "code",
   "execution_count": 79,
   "metadata": {},
   "outputs": [
    {
     "name": "stderr",
     "output_type": "stream",
     "text": [
      "C:\\Users\\Liu\\Anaconda3\\lib\\site-packages\\pandas\\core\\indexes\\base.py:3196: RuntimeWarning: '<' not supported between instances of 'str' and 'int', sort order is undefined for incomparable objects\n",
      "  old_level.join(right, how=how, return_indexers=True)\n"
     ]
    },
    {
     "data": {
      "text/plain": [
       "([<matplotlib.axis.XTick at 0x1d50501dbe0>,\n",
       "  <matplotlib.axis.XTick at 0x1d5052d89b0>,\n",
       "  <matplotlib.axis.XTick at 0x1d5085a9860>,\n",
       "  <matplotlib.axis.XTick at 0x1d50bd29748>,\n",
       "  <matplotlib.axis.XTick at 0x1d505d82048>,\n",
       "  <matplotlib.axis.XTick at 0x1d505d827b8>,\n",
       "  <matplotlib.axis.XTick at 0x1d505d82f60>,\n",
       "  <matplotlib.axis.XTick at 0x1d5072ff898>,\n",
       "  <matplotlib.axis.XTick at 0x1d5072ff128>,\n",
       "  <matplotlib.axis.XTick at 0x1d5011a4ef0>],\n",
       " <a list of 10 Text xticklabel objects>)"
      ]
     },
     "execution_count": 79,
     "metadata": {},
     "output_type": "execute_result"
    },
    {
     "data": {
      "image/png": "[encoded data removed]",
      "text/plain": [
       "<matplotlib.figure.Figure at 0x1d507c347b8>"
      ]
     },
     "metadata": {},
     "output_type": "display_data"
    }
   ],
   "source": [
    "s1=df.groupby(['StockCode','cancellation'])['Invoice'].count()\n",
    "s2=df.groupby('StockCode')['Invoice'].count()\n",
    "s2.describe()\n",
    "\n",
    "#删除销量过低的商品（以100为界）\n",
    "s3=s2[s2>=100]\n",
    "proportion=(s1/s3).sort_values(ascending=False)[:10].values\n",
    "\n",
    "ind=range(len(proportion))\n",
    "locations=ind\n",
    "plt.bar(ind,proportion,width=0.3);\n",
    "\n",
    "labels=['D','S','BANK CHARGES','79323B','M','79323GR','79323W','79323LP','79323P','79341']\n",
    "plt.xticks(locations,labels,rotation=90)"
   ]
  },
  {
   "cell_type": "markdown",
   "metadata": {},
   "source": [
    "部分商品取消比例严重偏高，需要对客户进行回访以确定原因，比如是不是因为不包邮导致客户大量取消订单？"
   ]
  },
  {
   "cell_type": "markdown",
   "metadata": {},
   "source": [
    "**3 销售额**"
   ]
  },
  {
   "cell_type": "markdown",
   "metadata": {},
   "source": [
    "**3.1 哪些商品销售额高？**"
   ]
  },
  {
   "cell_type": "code",
   "execution_count": 12,
   "metadata": {},
   "outputs": [
    {
     "data": {
      "text/plain": [
       "<matplotlib.axes._subplots.AxesSubplot at 0x1d573630b38>"
      ]
     },
     "execution_count": 12,
     "metadata": {},
     "output_type": "execute_result"
    },
    {
     "data": {
      "image/png": "[encoded data removed]",
      "text/plain": [
       "<matplotlib.figure.Figure at 0x1d561a7c240>"
      ]
     },
     "metadata": {},
     "output_type": "display_data"
    }
   ],
   "source": [
    "df.groupby('StockCode')['total'].sum().sort_values(ascending=False)[:10].plot(kind='bar')"
   ]
  },
  {
   "cell_type": "markdown",
   "metadata": {},
   "source": [
    "**3.2 订单总额随月份的变化如何？**"
   ]
  },
  {
   "cell_type": "code",
   "execution_count": 13,
   "metadata": {
    "scrolled": true
   },
   "outputs": [
    {
     "data": {
      "text/plain": [
       "(array([ 0,  1,  2,  3,  4,  5,  6,  7,  8,  9, 10, 11]),\n",
       " <a list of 12 Text xticklabel objects>)"
      ]
     },
     "execution_count": 13,
     "metadata": {},
     "output_type": "execute_result"
    },
    {
     "data": {
      "image/png": "[encoded data removed]",
      "text/plain": [
       "<matplotlib.figure.Figure at 0x1d57911b0f0>"
      ]
     },
     "metadata": {},
     "output_type": "display_data"
    }
   ],
   "source": [
    "#查询2010年数据并绘图\n",
    "df_2010=df.query('year==2010')\n",
    "total=df_2010.groupby('month')['total'].sum()\n",
    "total.plot(kind='bar',figsize=(7,5))\n",
    "plt.xticks(rotation=0)"
   ]
  },
  {
   "cell_type": "code",
   "execution_count": 14,
   "metadata": {},
   "outputs": [
    {
     "name": "stderr",
     "output_type": "stream",
     "text": [
      "C:\\Users\\Liu\\Anaconda3\\lib\\site-packages\\ipykernel_launcher.py:3: SettingWithCopyWarning: \n",
      "A value is trying to be set on a copy of a slice from a DataFrame\n",
      "\n",
      "See the caveats in the documentation: http://pandas.pydata.org/pandas-docs/stable/indexing.html#indexing-view-versus-copy\n",
      "  This is separate from the ipykernel package so we can avoid doing imports until\n"
     ]
    },
    {
     "data": {
      "text/plain": [
       "(array([ 0,  1,  2,  3,  4,  5,  6,  7,  8,  9, 10]),\n",
       " <a list of 11 Text xticklabel objects>)"
      ]
     },
     "execution_count": 14,
     "metadata": {},
     "output_type": "execute_result"
    },
    {
     "data": {
      "image/png": "[encoded data removed]",
      "text/plain": [
       "<matplotlib.figure.Figure at 0x1d507b223c8>"
      ]
     },
     "metadata": {},
     "output_type": "display_data"
    }
   ],
   "source": [
    "#查询2011年数据并绘图（由于12月数据不全故舍弃）\n",
    "df_2011=df.query('year==2011')\n",
    "df_2011.drop(df_2011.query('month==12').index,inplace=True)\n",
    "total=df_2011.groupby('month')['total'].sum()\n",
    "total.plot(kind='bar',figsize=(7,5))\n",
    "plt.xticks(rotation=0)"
   ]
  },
  {
   "cell_type": "markdown",
   "metadata": {},
   "source": [
    "有2010年和2011年的数据可知，9、10、11三个月份销售额比其他月份高。"
   ]
  },
  {
   "cell_type": "markdown",
   "metadata": {},
   "source": [
    "**3.3 每天中的什么时候交易最频繁？**"
   ]
  },
  {
   "cell_type": "code",
   "execution_count": 15,
   "metadata": {},
   "outputs": [
    {
     "data": {
      "text/plain": [
       "<matplotlib.lines.Line2D at 0x1d508212630>"
      ]
     },
     "execution_count": 15,
     "metadata": {},
     "output_type": "execute_result"
    },
    {
     "data": {
      "image/png": "[encoded data removed]",
      "text/plain": [
       "<matplotlib.figure.Figure at 0x1d50f0bd9b0>"
      ]
     },
     "metadata": {},
     "output_type": "display_data"
    }
   ],
   "source": [
    "#按小时统计交易量\n",
    "total_count=df.groupby('hour')['Invoice'].count()\n",
    "total_count.plot(kind='bar',figsize=(7,5))\n",
    "plt.xticks(rotation=0)\n",
    "\n",
    "#计算每小时平均交易量并标注出来\n",
    "avg=df['Invoice'].count()/df['hour'].unique().size\n",
    "plt.axhline(avg,color='r')"
   ]
  },
  {
   "cell_type": "markdown",
   "metadata": {},
   "source": [
    "由此可知，每天10-16时为交易高峰期。"
   ]
  },
  {
   "cell_type": "markdown",
   "metadata": {},
   "source": [
    "## 总结\n",
    "\n",
    "> 1.订单整体的取消比例为1.8%，但部分商品订单取消比例远高于此，是否因为支付环节出现新的费用（比如邮费）促使客户取消订单？可通过重新设计产品页面或不将邮费等费用显示在支付环节的方法降低取消比例。\n",
    "\n",
    "> 2.公司最畅销的三种产品代码为“22423”、“DOT”、“85123A”，每年的九、十、十一公司销售额较高，其它月份可提高优惠力度吸引客户。\n",
    "\n",
    "> 3.每天10-16时为交易高峰期,在8时之前、18时之后交易量迅速降低，公司的资源，如客服人员等可据此增减。"
   ]
  }
 ],
 "metadata": {
  "kernelspec": {
   "display_name": "Python 3",
   "language": "python",
   "name": "python3"
  },
  "language_info": {
   "codemirror_mode": {
    "name": "ipython",
    "version": 3
   },
   "file_extension": ".py",
   "mimetype": "text/x-python",
   "name": "python",
   "nbconvert_exporter": "python",
   "pygments_lexer": "ipython3",
   "version": "3.6.3"
  }
 },
 "nbformat": 4,
 "nbformat_minor": 2
}
